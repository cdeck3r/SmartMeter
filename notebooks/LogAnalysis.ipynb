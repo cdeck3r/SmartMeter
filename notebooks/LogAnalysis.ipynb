{
 "cells": [
  {
   "cell_type": "markdown",
   "metadata": {},
   "source": [
    "# SmartMeter Log Analysis\n",
    "\n",
    "This notebool analyzes the SmartMeter camera system logfile for events and compute statistics of repeated activity phases. The logfile contains events of the following activities named after their scripts:\n",
    "\n",
    "* *fileservice.sh*: picture upload and file management\n",
    "* *logrotate.sh*: logfile upload and file management\n",
    "* *smeter.sh*: all activities\n",
    "\n",
    "The *smeter.sh* activity contains all other."
   ]
  },
  {
   "cell_type": "code",
   "execution_count": 1,
   "metadata": {},
   "outputs": [],
   "source": [
    "# input\n",
    "logfile_name <- 'smartmeter.log'"
   ]
  },
  {
   "cell_type": "markdown",
   "metadata": {},
   "source": [
    "**Import relevant libraries**"
   ]
  },
  {
   "cell_type": "code",
   "execution_count": 2,
   "metadata": {},
   "outputs": [
    {
     "name": "stderr",
     "output_type": "stream",
     "text": [
      "── \u001b[1mAttaching packages\u001b[22m ─────────────────────────────────────── tidyverse 1.3.0 ──\n",
      "\n",
      "\u001b[32m✔\u001b[39m \u001b[34mggplot2\u001b[39m 3.3.0     \u001b[32m✔\u001b[39m \u001b[34mpurrr  \u001b[39m 0.3.4\n",
      "\u001b[32m✔\u001b[39m \u001b[34mtibble \u001b[39m 3.0.1     \u001b[32m✔\u001b[39m \u001b[34mdplyr  \u001b[39m 0.8.5\n",
      "\u001b[32m✔\u001b[39m \u001b[34mtidyr  \u001b[39m 1.1.0     \u001b[32m✔\u001b[39m \u001b[34mstringr\u001b[39m 1.4.0\n",
      "\u001b[32m✔\u001b[39m \u001b[34mreadr  \u001b[39m 1.3.1     \u001b[32m✔\u001b[39m \u001b[34mforcats\u001b[39m 0.5.0\n",
      "\n",
      "── \u001b[1mConflicts\u001b[22m ────────────────────────────────────────── tidyverse_conflicts() ──\n",
      "\u001b[31m✖\u001b[39m \u001b[34mdplyr\u001b[39m::\u001b[32mfilter()\u001b[39m masks \u001b[34mstats\u001b[39m::filter()\n",
      "\u001b[31m✖\u001b[39m \u001b[34mdplyr\u001b[39m::\u001b[32mlag()\u001b[39m    masks \u001b[34mstats\u001b[39m::lag()\n",
      "\n",
      "\n",
      "Attaching package: ‘lubridate’\n",
      "\n",
      "\n",
      "The following objects are masked from ‘package:dplyr’:\n",
      "\n",
      "    intersect, setdiff, union\n",
      "\n",
      "\n",
      "The following objects are masked from ‘package:base’:\n",
      "\n",
      "    date, intersect, setdiff, union\n",
      "\n",
      "\n"
     ]
    }
   ],
   "source": [
    "library(tidyverse)\n",
    "library(lubridate)\n",
    "library(ggplot2)"
   ]
  },
  {
   "cell_type": "markdown",
   "metadata": {},
   "source": [
    "### Load logfile\n",
    "\n",
    "Load and parse csv with `;` as delimiter."
   ]
  },
  {
   "cell_type": "code",
   "execution_count": 3,
   "metadata": {},
   "outputs": [
    {
     "name": "stderr",
     "output_type": "stream",
     "text": [
      "Parsed with column specification:\n",
      "cols(\n",
      "  X1 = \u001b[34mcol_date(format = \"\")\u001b[39m,\n",
      "  X2 = \u001b[31mcol_character()\u001b[39m,\n",
      "  X3 = \u001b[31mcol_character()\u001b[39m,\n",
      "  X4 = \u001b[31mcol_character()\u001b[39m,\n",
      "  X5 = \u001b[31mcol_character()\u001b[39m\n",
      ")\n",
      "\n"
     ]
    },
    {
     "data": {
      "text/html": [
       "<table>\n",
       "<caption>A tibble: 6 × 5</caption>\n",
       "<thead>\n",
       "\t<tr><th scope=col>date</th><th scope=col>time</th><th scope=col>script</th><th scope=col>status</th><th scope=col>message</th></tr>\n",
       "\t<tr><th scope=col>&lt;date&gt;</th><th scope=col>&lt;chr&gt;</th><th scope=col>&lt;chr&gt;</th><th scope=col>&lt;chr&gt;</th><th scope=col>&lt;chr&gt;</th></tr>\n",
       "</thead>\n",
       "<tbody>\n",
       "\t<tr><td>2020-08-29</td><td>01:02:01,1598655721</td><td>/home/pi/smartmeter/smeter.sh     </td><td>INFO</td><td>SmartMeter camera system starts.                                          </td></tr>\n",
       "\t<tr><td>2020-08-29</td><td>01:02:01,1598655721</td><td>/home/pi/smartmeter/maintenance.sh</td><td>INFO</td><td>Maintenance mode is: off                                                  </td></tr>\n",
       "\t<tr><td>2020-08-29</td><td>01:02:07,1598655727</td><td>/home/pi/smartmeter/takepicture.sh</td><td>INFO</td><td>Picture successfully taken: /home/pi/smartmeter/images/20200829_010201.png</td></tr>\n",
       "\t<tr><td>2020-08-29</td><td>01:02:09,1598655729</td><td>/home/pi/smartmeter/fileservice.sh</td><td>INFO</td><td>Website dropbox.com is reachable.                                         </td></tr>\n",
       "\t<tr><td>2020-08-29</td><td>01:02:09,1598655729</td><td>/home/pi/smartmeter/fileservice.sh</td><td>INFO</td><td>Upload to Dropbox: 20200829_010201.png                                    </td></tr>\n",
       "\t<tr><td>2020-08-29</td><td>01:02:47,1598655767</td><td>/home/pi/smartmeter/fileservice.sh</td><td>INFO</td><td>Delete file: /home/pi/smartmeter/images/20200829_010201.png               </td></tr>\n",
       "</tbody>\n",
       "</table>\n"
      ],
      "text/latex": [
       "A tibble: 6 × 5\n",
       "\\begin{tabular}{lllll}\n",
       " date & time & script & status & message\\\\\n",
       " <date> & <chr> & <chr> & <chr> & <chr>\\\\\n",
       "\\hline\n",
       "\t 2020-08-29 & 01:02:01,1598655721 & /home/pi/smartmeter/smeter.sh      & INFO & SmartMeter camera system starts.                                          \\\\\n",
       "\t 2020-08-29 & 01:02:01,1598655721 & /home/pi/smartmeter/maintenance.sh & INFO & Maintenance mode is: off                                                  \\\\\n",
       "\t 2020-08-29 & 01:02:07,1598655727 & /home/pi/smartmeter/takepicture.sh & INFO & Picture successfully taken: /home/pi/smartmeter/images/20200829\\_010201.png\\\\\n",
       "\t 2020-08-29 & 01:02:09,1598655729 & /home/pi/smartmeter/fileservice.sh & INFO & Website dropbox.com is reachable.                                         \\\\\n",
       "\t 2020-08-29 & 01:02:09,1598655729 & /home/pi/smartmeter/fileservice.sh & INFO & Upload to Dropbox: 20200829\\_010201.png                                    \\\\\n",
       "\t 2020-08-29 & 01:02:47,1598655767 & /home/pi/smartmeter/fileservice.sh & INFO & Delete file: /home/pi/smartmeter/images/20200829\\_010201.png               \\\\\n",
       "\\end{tabular}\n"
      ],
      "text/markdown": [
       "\n",
       "A tibble: 6 × 5\n",
       "\n",
       "| date &lt;date&gt; | time &lt;chr&gt; | script &lt;chr&gt; | status &lt;chr&gt; | message &lt;chr&gt; |\n",
       "|---|---|---|---|---|\n",
       "| 2020-08-29 | 01:02:01,1598655721 | /home/pi/smartmeter/smeter.sh      | INFO | SmartMeter camera system starts.                                           |\n",
       "| 2020-08-29 | 01:02:01,1598655721 | /home/pi/smartmeter/maintenance.sh | INFO | Maintenance mode is: off                                                   |\n",
       "| 2020-08-29 | 01:02:07,1598655727 | /home/pi/smartmeter/takepicture.sh | INFO | Picture successfully taken: /home/pi/smartmeter/images/20200829_010201.png |\n",
       "| 2020-08-29 | 01:02:09,1598655729 | /home/pi/smartmeter/fileservice.sh | INFO | Website dropbox.com is reachable.                                          |\n",
       "| 2020-08-29 | 01:02:09,1598655729 | /home/pi/smartmeter/fileservice.sh | INFO | Upload to Dropbox: 20200829_010201.png                                     |\n",
       "| 2020-08-29 | 01:02:47,1598655767 | /home/pi/smartmeter/fileservice.sh | INFO | Delete file: /home/pi/smartmeter/images/20200829_010201.png                |\n",
       "\n"
      ],
      "text/plain": [
       "  date       time                script                             status\n",
       "1 2020-08-29 01:02:01,1598655721 /home/pi/smartmeter/smeter.sh      INFO  \n",
       "2 2020-08-29 01:02:01,1598655721 /home/pi/smartmeter/maintenance.sh INFO  \n",
       "3 2020-08-29 01:02:07,1598655727 /home/pi/smartmeter/takepicture.sh INFO  \n",
       "4 2020-08-29 01:02:09,1598655729 /home/pi/smartmeter/fileservice.sh INFO  \n",
       "5 2020-08-29 01:02:09,1598655729 /home/pi/smartmeter/fileservice.sh INFO  \n",
       "6 2020-08-29 01:02:47,1598655767 /home/pi/smartmeter/fileservice.sh INFO  \n",
       "  message                                                                   \n",
       "1 SmartMeter camera system starts.                                          \n",
       "2 Maintenance mode is: off                                                  \n",
       "3 Picture successfully taken: /home/pi/smartmeter/images/20200829_010201.png\n",
       "4 Website dropbox.com is reachable.                                         \n",
       "5 Upload to Dropbox: 20200829_010201.png                                    \n",
       "6 Delete file: /home/pi/smartmeter/images/20200829_010201.png               "
      ]
     },
     "metadata": {},
     "output_type": "display_data"
    }
   ],
   "source": [
    "logfile <- read_delim(file=logfile_name, col_names=FALSE, delim=';')\n",
    "colnames(logfile) <- c('date', 'time', 'script', 'status', 'message')\n",
    "head(logfile)"
   ]
  },
  {
   "cell_type": "markdown",
   "metadata": {},
   "source": [
    "### Prepare data\n",
    "\n",
    "Filter and convert data types. Convert date and time to timestamp (using lubridate package)"
   ]
  },
  {
   "cell_type": "code",
   "execution_count": 4,
   "metadata": {},
   "outputs": [],
   "source": [
    "# convert timestamp\n",
    "logfile <- logfile %>% \n",
    "    mutate(time_sec = str_extract(time, '\\\\d\\\\d:\\\\d\\\\d:\\\\d\\\\d') ) %>%\n",
    "    mutate(timestamp = ymd_hms(paste(date, time_sec))) %>% \n",
    "    select(timestamp, script, status, message)"
   ]
  },
  {
   "cell_type": "markdown",
   "metadata": {},
   "source": [
    "### Simple stats and plots\n",
    "\n",
    "Some simple stats figures supported with plots to obtain an overview on all events within a logfile. The statistics are\n",
    "\n",
    "* event count per status\n",
    "* file completeness\n",
    "* timeseries of events\n",
    "* status per hour"
   ]
  },
  {
   "cell_type": "markdown",
   "metadata": {},
   "source": [
    "#### Event Count per status"
   ]
  },
  {
   "cell_type": "code",
   "execution_count": 5,
   "metadata": {},
   "outputs": [
    {
     "data": {
      "text/html": [
       "<table>\n",
       "<caption>A tibble: 1 × 2</caption>\n",
       "<thead>\n",
       "\t<tr><th scope=col>status</th><th scope=col>evt_count</th></tr>\n",
       "\t<tr><th scope=col>&lt;chr&gt;</th><th scope=col>&lt;int&gt;</th></tr>\n",
       "</thead>\n",
       "<tbody>\n",
       "\t<tr><td>INFO</td><td>661</td></tr>\n",
       "</tbody>\n",
       "</table>\n"
      ],
      "text/latex": [
       "A tibble: 1 × 2\n",
       "\\begin{tabular}{ll}\n",
       " status & evt\\_count\\\\\n",
       " <chr> & <int>\\\\\n",
       "\\hline\n",
       "\t INFO & 661\\\\\n",
       "\\end{tabular}\n"
      ],
      "text/markdown": [
       "\n",
       "A tibble: 1 × 2\n",
       "\n",
       "| status &lt;chr&gt; | evt_count &lt;int&gt; |\n",
       "|---|---|\n",
       "| INFO | 661 |\n",
       "\n"
      ],
      "text/plain": [
       "  status evt_count\n",
       "1 INFO   661      "
      ]
     },
     "metadata": {},
     "output_type": "display_data"
    }
   ],
   "source": [
    "# event count per status in logfile\n",
    "# status: INFO, WARN, ERROR\n",
    "logfile %>% \n",
    "    group_by(status) %>%\n",
    "    summarise(evt_count=n())"
   ]
  },
  {
   "cell_type": "markdown",
   "metadata": {},
   "source": [
    "#### File completness\n",
    "\n",
    "We expect 3 file uploads per hour. We only output date and time when there are more or less than 3 files per hour. In the regular case, we expect an empty list."
   ]
  },
  {
   "cell_type": "code",
   "execution_count": 6,
   "metadata": {},
   "outputs": [],
   "source": [
    "# add datehour for each entry\n",
    "logdatehour <- logfile %>% \n",
    "    mutate(datehour=ymd_h(paste(date(timestamp), hour(timestamp))))"
   ]
  },
  {
   "cell_type": "code",
   "execution_count": 7,
   "metadata": {},
   "outputs": [
    {
     "data": {
      "text/html": [
       "<table>\n",
       "<caption>A tibble: 0 × 2</caption>\n",
       "<thead>\n",
       "\t<tr><th scope=col>datehour</th><th scope=col>filecount</th></tr>\n",
       "\t<tr><th scope=col>&lt;dttm&gt;</th><th scope=col>&lt;int&gt;</th></tr>\n",
       "</thead>\n",
       "<tbody>\n",
       "</tbody>\n",
       "</table>\n"
      ],
      "text/latex": [
       "A tibble: 0 × 2\n",
       "\\begin{tabular}{ll}\n",
       " datehour & filecount\\\\\n",
       " <dttm> & <int>\\\\\n",
       "\\hline\n",
       "\\end{tabular}\n"
      ],
      "text/markdown": [
       "\n",
       "A tibble: 0 × 2\n",
       "\n",
       "| datehour &lt;dttm&gt; | filecount &lt;int&gt; |\n",
       "|---|---|\n",
       "\n"
      ],
      "text/plain": [
       "     datehour filecount"
      ]
     },
     "metadata": {},
     "output_type": "display_data"
    }
   ],
   "source": [
    "# File completness\n",
    "# show list only, if there more or less than 3 files per hour\n",
    "logdatehour %>%\n",
    "    filter(str_detect(message, 'Upload to Dropbox')) %>%\n",
    "    filter(str_detect(message, '.png')) %>%\n",
    "    group_by(datehour) %>%\n",
    "    summarise(filecount=n()) %>%\n",
    "    filter(filecount != 3) \n",
    "# expect empty list as result"
   ]
  },
  {
   "cell_type": "markdown",
   "metadata": {},
   "source": [
    "#### Timeseries of events"
   ]
  },
  {
   "cell_type": "code",
   "execution_count": 8,
   "metadata": {},
   "outputs": [
    {
     "data": {
      "image/png": "[encoded data removed]",
      "text/plain": [
       "plot without title"
      ]
     },
     "metadata": {
      "image/png": {
       "height": 420,
       "width": 420
      },
      "text/plain": {
       "height": 420,
       "width": 420
      }
     },
     "output_type": "display_data"
    }
   ],
   "source": [
    "# all events per hour\n",
    "ggplot( logdatehour %>%\n",
    "    group_by(datehour) %>%\n",
    "    summarise(evt_hour=n()) %>%\n",
    "    head, aes(x=datehour, y=evt_hour)) +\n",
    "    geom_line(color='blue') +\n",
    "    geom_point() +\n",
    "    xlab('Time') +\n",
    "    ylab('Events per hour') +\n",
    "    ggtitle('Time series of events in logfile')"
   ]
  },
  {
   "cell_type": "markdown",
   "metadata": {},
   "source": [
    "#### Timeseries of events for each status\n",
    "\n",
    "Possible status names are\n",
    "* INFO\n",
    "* WARN\n",
    "* ERROR"
   ]
  },
  {
   "cell_type": "code",
   "execution_count": 9,
   "metadata": {},
   "outputs": [
    {
     "data": {
      "image/png": "[encoded data removed]",
      "text/plain": [
       "plot without title"
      ]
     },
     "metadata": {
      "image/png": {
       "height": 420,
       "width": 420
      },
      "text/plain": {
       "height": 420,
       "width": 420
      }
     },
     "output_type": "display_data"
    }
   ],
   "source": [
    "# plot bar chart of each status event counts per hour\n",
    "ggplot(logdatehour, aes(x=datehour)) +\n",
    "    geom_bar(alpha=0.2, ) +\n",
    "    geom_line(stat='count', linetype='dashed', color='blue') +\n",
    "    geom_point(stat='count') +\n",
    "    facet_wrap( ~status, scales=\"free\", ncol=1) +\n",
    "    ggtitle('Barplots of status events per hour') +\n",
    "    theme_light()"
   ]
  },
  {
   "cell_type": "markdown",
   "metadata": {},
   "source": [
    "### Activity Duration \n",
    "\n",
    "The logfile contains events of the following activities named after their scripts:\n",
    "\n",
    "* *fileservice.sh*: picture upload and file management\n",
    "* *logrotate.sh*: logfile upload and file management\n",
    "* *smeter.sh*: all activities\n",
    "\n",
    "In this section we filter messages (by msg_str) in log entries (given by script_str) and compute the duration. See function `calc_act_length`."
   ]
  },
  {
   "cell_type": "code",
   "execution_count": 10,
   "metadata": {},
   "outputs": [],
   "source": [
    "# computes the length for selected messages of a script name \n",
    "calc_act_length <- function(data, script_str, msg_str) {\n",
    "    evt_logfile <- data %>%\n",
    "        filter(str_detect(script, script_str)) %>% # script == script_str?\n",
    "        filter(str_detect(message, msg_str)) %>% # message == msg_str?\n",
    "        mutate(act_type = script_str) %>% # set evt_type := script_str \n",
    "        arrange(timestamp) # sort asc\n",
    "\n",
    "    # calc event length\n",
    "    prev_timestamp <- evt_logfile %>% first %>% lag\n",
    "    evt_logfile <- tibble(prev_timestamp, evt_logfile) %>% # re-compile logfile for event\n",
    "        mutate(time_interval = interval(prev_timestamp, timestamp)) %>%\n",
    "        mutate(interval_sec=int_length(time_interval)) # calc event len in seconds\n",
    "    \n",
    "    return(evt_logfile)\n",
    "}"
   ]
  },
  {
   "cell_type": "markdown",
   "metadata": {},
   "source": [
    "Now, filter the logfile and extract the begin/end events for activties and compute their respective durations in seconds."
   ]
  },
  {
   "cell_type": "code",
   "execution_count": 11,
   "metadata": {},
   "outputs": [],
   "source": [
    "# smeter.sh \n",
    "smeter <- logfile %>% \n",
    "    calc_act_length('smeter.sh', 'SmartMeter camera system') %>%\n",
    "    filter(str_detect(message, 'SmartMeter camera system shuts down'))\n",
    "# fileservice.sh\n",
    "fileservice <- logfile %>%\n",
    "    calc_act_length('fileservice.sh', 'Upload to Dropbox|Delete file') %>%\n",
    "    filter(str_detect(message, 'Delete file:'))\n",
    "# logrotate.sh\n",
    "# this activity happens once per hour (-> sum all events)\n",
    "logrotate <- logfile %>%\n",
    "    calc_act_length('logrotate.sh', 'Upload to Dropbox') %>%\n",
    "    filter(interval_sec < 1000) %>% # hack: filters out the inteval between two cycles\n",
    "    group_by(act_type, date(timestamp), hour(timestamp)) %>% \n",
    "    summarise(interval_sec=sum(interval_sec)) # sum logrotate activity per hour (=cycle)"
   ]
  },
  {
   "cell_type": "markdown",
   "metadata": {},
   "source": [
    "### Activity duration stats and plots\n",
    "\n",
    "We compute summary stats for each activity duration and plot them as a boxplot."
   ]
  },
  {
   "cell_type": "code",
   "execution_count": 12,
   "metadata": {},
   "outputs": [
    {
     "name": "stderr",
     "output_type": "stream",
     "text": [
      "Warning message in bind_rows_(x, .id):\n",
      "“Vectorizing 'Interval' elements may not preserve their attributes”\n",
      "Warning message in bind_rows_(x, .id):\n",
      "“Vectorizing 'Interval' elements may not preserve their attributes”\n"
     ]
    }
   ],
   "source": [
    "# combine activities\n",
    "act_duration <- bind_rows(smeter, fileservice, logrotate)"
   ]
  },
  {
   "cell_type": "code",
   "execution_count": 13,
   "metadata": {},
   "outputs": [
    {
     "data": {
      "text/plain": [
       "   smeter.sh    fileservice.sh  logrotate.sh  \n",
       " Min.   :1738   Min.   :38.0   Min.   : 9.00  \n",
       " 1st Qu.:1739   1st Qu.:39.0   1st Qu.:10.00  \n",
       " Median :1740   Median :41.0   Median :10.00  \n",
       " Mean   :1742   Mean   :41.1   Mean   :10.96  \n",
       " 3rd Qu.:1743   3rd Qu.:42.0   3rd Qu.:11.00  \n",
       " Max.   :1752   Max.   :52.0   Max.   :17.00  \n",
       " NA's   :95     NA's   :46     NA's   :95     "
      ]
     },
     "metadata": {},
     "output_type": "display_data"
    }
   ],
   "source": [
    "# descriptive summary stats\n",
    "act_duration %>% \n",
    "    spread(act_type, interval_sec) %>% # convert from long to wide format\n",
    "    select(smeter.sh, fileservice.sh, logrotate.sh) %>%\n",
    "    summary"
   ]
  },
  {
   "cell_type": "code",
   "execution_count": 14,
   "metadata": {},
   "outputs": [
    {
     "data": {
      "image/png": "[encoded data removed]",
      "text/plain": [
       "plot without title"
      ]
     },
     "metadata": {
      "image/png": {
       "height": 420,
       "width": 420
      },
      "text/plain": {
       "height": 420,
       "width": 420
      }
     },
     "output_type": "display_data"
    }
   ],
   "source": [
    "# cleanup ...\n",
    "act_duration <- act_duration %>%\n",
    "    select(act_type, interval_sec) %>% \n",
    "    drop_na\n",
    "# ... and plot\n",
    "p <- ggplot(act_duration, aes(x=act_type, y=interval_sec, fill=act_type)) +\n",
    "    geom_boxplot(outlier.colour=\"red\", outlier.shape=8, outlier.size=4) +\n",
    "    facet_wrap( ~act_type, scales=\"free\", ncol=1) +\n",
    "    coord_flip() +\n",
    "    xlab(\"Activity\") +\n",
    "    ylab(\"Activity duration [seconds]\") +\n",
    "    guides(fill=guide_legend(title=\"Activity\")) +\n",
    "    theme_light()\n",
    "p"
   ]
  },
  {
   "cell_type": "code",
   "execution_count": 15,
   "metadata": {},
   "outputs": [
    {
     "data": {
      "text/html": [
       "<strong>png:</strong> 2"
      ],
      "text/latex": [
       "\\textbf{png:} 2"
      ],
      "text/markdown": [
       "**png:** 2"
      ],
      "text/plain": [
       "png \n",
       "  2 "
      ]
     },
     "metadata": {},
     "output_type": "display_data"
    }
   ],
   "source": [
    "# store plot as png file\n",
    "png(file='activity_durations.png', width=600)\n",
    "p\n",
    "dev.off()"
   ]
  }
 ],
 "metadata": {
  "kernelspec": {
   "display_name": "R",
   "language": "R",
   "name": "ir"
  },
  "language_info": {
   "codemirror_mode": "r",
   "file_extension": ".r",
   "mimetype": "text/x-r-source",
   "name": "R",
   "pygments_lexer": "r",
   "version": "3.6.3"
  }
 },
 "nbformat": 4,
 "nbformat_minor": 4
}
