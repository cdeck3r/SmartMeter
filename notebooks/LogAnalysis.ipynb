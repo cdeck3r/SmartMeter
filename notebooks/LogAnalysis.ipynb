{
 "cells": [
  {
   "cell_type": "markdown",
   "metadata": {},
   "source": [
    "# SmartMeter Log Analysis\n",
    "\n",
    "**Run analysis:** *[Menu] Kernel -> Restart Kernel and Run All Cells...*\n",
    "\n",
    "This notebook analyzes the SmartMeter camera system logfile for events and compute statistics of repeated activity phases. The logfile contains events of the following activities named after their scripts:\n",
    "\n",
    "* *fileservice.sh*: picture upload and file management\n",
    "* *logrotate.sh*: logfile upload and file management\n",
    "* *smeter.sh*: all activities\n",
    "\n",
    "The *smeter.sh* activity contains all other."
   ]
  },
  {
   "cell_type": "markdown",
   "metadata": {},
   "source": [
    "**Download and prepare logfiles**\n",
    "\n",
    "The path to `filterlog.sh` script is different on the local dev system and on mybinder.org. We look in different root paths for `filterlog.sh` and once found it gets executed."
   ]
  },
  {
   "cell_type": "code",
   "execution_count": null,
   "metadata": {},
   "outputs": [],
   "source": [
    "root_paths <- c('/SmartMeter', '..')\n",
    "filterlog.sh <- 'src/filterlog.sh'\n",
    "filterlog.sh <- paste0(root_paths, '/', filterlog.sh)\n",
    "filterlog.sh <- file.access(filterlog.sh, mode=4)\n",
    "filterlog.sh <- head(filterlog.sh[filterlog.sh == 0], n=1)\n",
    "filterlog.sh <- names(filterlog.sh)\n",
    "# run filterlog.sh\n",
    "system(paste('sh', filterlog.sh, '> smartmeter.log'), intern=TRUE)"
   ]
  },
  {
   "cell_type": "code",
   "execution_count": null,
   "metadata": {},
   "outputs": [],
   "source": [
    "# input\n",
    "logfile_name <- 'smartmeter.log'"
   ]
  },
  {
   "cell_type": "markdown",
   "metadata": {},
   "source": [
    "**Import relevant libraries**"
   ]
  },
  {
   "cell_type": "code",
   "execution_count": null,
   "metadata": {},
   "outputs": [],
   "source": [
    "library(tidyverse)\n",
    "library(lubridate)\n",
    "library(ggplot2)"
   ]
  },
  {
   "cell_type": "markdown",
   "metadata": {},
   "source": [
    "### Load logfile\n",
    "\n",
    "Load and parse csv with `;` as delimiter."
   ]
  },
  {
   "cell_type": "code",
   "execution_count": null,
   "metadata": {},
   "outputs": [],
   "source": [
    "logfile <- read_delim(file=logfile_name, col_names=FALSE, delim=';')\n",
    "colnames(logfile) <- c('date', 'time', 'script', 'status', 'message')\n",
    "head(logfile)"
   ]
  },
  {
   "cell_type": "markdown",
   "metadata": {},
   "source": [
    "### Prepare data\n",
    "\n",
    "Filter and convert data types. Convert date and time to timestamp (using lubridate package)"
   ]
  },
  {
   "cell_type": "code",
   "execution_count": null,
   "metadata": {},
   "outputs": [],
   "source": [
    "# convert timestamp\n",
    "logfile <- logfile %>% \n",
    "    mutate(time_sec = str_extract(time, '\\\\d\\\\d:\\\\d\\\\d:\\\\d\\\\d') ) %>%\n",
    "    mutate(timestamp = ymd_hms(paste(date, time_sec))) %>% \n",
    "    select(timestamp, script, status, message)"
   ]
  },
  {
   "cell_type": "markdown",
   "metadata": {},
   "source": [
    "### Simple stats and plots\n",
    "\n",
    "Some simple stats figures supported with plots to obtain an overview on all events within a logfile. The statistics are\n",
    "\n",
    "* event count per status\n",
    "* file completeness\n",
    "* timeseries of events\n",
    "* status per hour"
   ]
  },
  {
   "cell_type": "markdown",
   "metadata": {},
   "source": [
    "#### Event Count per status"
   ]
  },
  {
   "cell_type": "code",
   "execution_count": null,
   "metadata": {},
   "outputs": [],
   "source": [
    "# event count per status in logfile\n",
    "# status: INFO, WARN, ERROR\n",
    "logfile %>% \n",
    "    group_by(status) %>%\n",
    "    summarise(evt_count=n())"
   ]
  },
  {
   "cell_type": "markdown",
   "metadata": {},
   "source": [
    "#### File completness\n",
    "\n",
    "We expect 3 file uploads per hour. We only output date and time when there are more or less than 3 files per hour. In the regular case, we expect an empty list."
   ]
  },
  {
   "cell_type": "code",
   "execution_count": null,
   "metadata": {},
   "outputs": [],
   "source": [
    "# add datehour for each entry\n",
    "logdatehour <- logfile %>% \n",
    "    mutate(datehour=ymd_h(paste(date(timestamp), hour(timestamp))))"
   ]
  },
  {
   "cell_type": "code",
   "execution_count": null,
   "metadata": {},
   "outputs": [],
   "source": [
    "# File completness\n",
    "# show list only, if there more or less than 3 files per hour\n",
    "logdatehour %>%\n",
    "    filter(str_detect(message, 'Upload to Dropbox')) %>%\n",
    "    filter(str_detect(message, '.png')) %>%\n",
    "    group_by(datehour) %>%\n",
    "    summarise(filecount=n()) %>%\n",
    "    filter(filecount != 3) \n",
    "# expect empty list as result"
   ]
  },
  {
   "cell_type": "markdown",
   "metadata": {},
   "source": [
    "#### Timeseries of events"
   ]
  },
  {
   "cell_type": "code",
   "execution_count": null,
   "metadata": {},
   "outputs": [],
   "source": [
    "# all events per hour\n",
    "ggplot( logdatehour %>%\n",
    "    group_by(datehour) %>%\n",
    "    summarise(evt_hour=n()),\n",
    "    aes(x=datehour, y=evt_hour)) +\n",
    "    geom_line(color='blue') +\n",
    "    geom_point() +\n",
    "    xlab('Time') +\n",
    "    ylab('Events per hour') +\n",
    "    ggtitle('Time series of events in logfile')"
   ]
  },
  {
   "cell_type": "markdown",
   "metadata": {},
   "source": [
    "#### Timeseries of events for each status\n",
    "\n",
    "Possible status names are\n",
    "* INFO\n",
    "* WARN\n",
    "* ERROR"
   ]
  },
  {
   "cell_type": "code",
   "execution_count": null,
   "metadata": {},
   "outputs": [],
   "source": [
    "# plot bar chart of each status event counts per hour\n",
    "ggplot(logdatehour, aes(x=datehour)) +\n",
    "    geom_bar(alpha=0.2, ) +\n",
    "    geom_line(stat='count', linetype='dashed', color='blue') +\n",
    "    geom_point(stat='count') +\n",
    "    facet_wrap( ~status, scales=\"free\", ncol=1) +\n",
    "    ggtitle('Barplots of status events per hour') +\n",
    "    theme_light()"
   ]
  },
  {
   "cell_type": "markdown",
   "metadata": {},
   "source": [
    "### Activity Duration \n",
    "\n",
    "The logfile contains events of the following activities named after their scripts:\n",
    "\n",
    "* *fileservice.sh*: picture upload and file management\n",
    "* *logrotate.sh*: logfile upload and file management\n",
    "* *smeter.sh*: all activities\n",
    "\n",
    "In this section we filter messages (by msg_str) in log entries (given by script_str) and compute the duration. See function `calc_act_length`."
   ]
  },
  {
   "cell_type": "code",
   "execution_count": null,
   "metadata": {},
   "outputs": [],
   "source": [
    "# computes the length for selected messages of a script name \n",
    "calc_act_length <- function(data, script_str, msg_str) {\n",
    "    evt_logfile <- data %>%\n",
    "        filter(str_detect(script, script_str)) %>% # script == script_str?\n",
    "        filter(str_detect(message, msg_str)) %>% # message == msg_str?\n",
    "        mutate(act_type = script_str) %>% # set evt_type := script_str \n",
    "        arrange(timestamp) # sort asc\n",
    "\n",
    "    # calc event length\n",
    "    prev_timestamp <- evt_logfile %>% first %>% lag\n",
    "    evt_logfile <- tibble(prev_timestamp, evt_logfile) %>% # re-compile logfile for event\n",
    "        mutate(time_interval = interval(prev_timestamp, timestamp)) %>%\n",
    "        mutate(interval_sec=int_length(time_interval)) # calc event len in seconds\n",
    "    \n",
    "    return(evt_logfile)\n",
    "}"
   ]
  },
  {
   "cell_type": "markdown",
   "metadata": {},
   "source": [
    "Now, filter the logfile and extract the begin/end events for activties and compute their respective durations in seconds."
   ]
  },
  {
   "cell_type": "code",
   "execution_count": null,
   "metadata": {},
   "outputs": [],
   "source": [
    "# smeter.sh \n",
    "smeter <- logfile %>% \n",
    "    calc_act_length('smeter.sh', 'SmartMeter camera system') %>%\n",
    "    filter(str_detect(message, 'SmartMeter camera system shuts down'))\n",
    "# fileservice.sh\n",
    "fileservice <- logfile %>%\n",
    "    calc_act_length('fileservice.sh', 'Upload to Dropbox|Delete file') %>%\n",
    "    filter(str_detect(message, 'Delete file:'))\n",
    "# logrotate.sh\n",
    "# this activity happens once per hour (-> sum all events)\n",
    "logrotate <- logfile %>%\n",
    "    calc_act_length('logrotate.sh', 'Upload to Dropbox') %>%\n",
    "    filter(interval_sec < 1000) %>% # hack: filters out the inteval between two cycles\n",
    "    group_by(act_type, date(timestamp), hour(timestamp)) %>% \n",
    "    summarise(interval_sec=sum(interval_sec)) # sum logrotate activity per hour (=cycle)"
   ]
  },
  {
   "cell_type": "markdown",
   "metadata": {},
   "source": [
    "### Activity duration stats and plots\n",
    "\n",
    "We compute summary stats for each activity duration and plot them as a boxplot."
   ]
  },
  {
   "cell_type": "code",
   "execution_count": null,
   "metadata": {},
   "outputs": [],
   "source": [
    "# combine activities\n",
    "act_duration <- bind_rows(smeter, fileservice, logrotate)"
   ]
  },
  {
   "cell_type": "code",
   "execution_count": null,
   "metadata": {},
   "outputs": [],
   "source": [
    "# descriptive summary stats\n",
    "act_duration %>% \n",
    "    spread(act_type, interval_sec) %>% # convert from long to wide format\n",
    "    select(smeter.sh, fileservice.sh, logrotate.sh) %>%\n",
    "    summary"
   ]
  },
  {
   "cell_type": "code",
   "execution_count": null,
   "metadata": {},
   "outputs": [],
   "source": [
    "# cleanup ...\n",
    "act_duration <- act_duration %>%\n",
    "    select(act_type, interval_sec) %>% \n",
    "    drop_na\n",
    "# ... and plot\n",
    "p <- ggplot(act_duration, aes(x=act_type, y=interval_sec, fill=act_type)) +\n",
    "    geom_boxplot(outlier.colour=\"red\", outlier.shape=8, outlier.size=4) +\n",
    "    facet_wrap( ~act_type, scales=\"free\", ncol=1) +\n",
    "    coord_flip() +\n",
    "    xlab(\"Activity\") +\n",
    "    ylab(\"Activity duration [seconds]\") +\n",
    "    guides(fill=guide_legend(title=\"Activity\")) +\n",
    "    theme_light()\n",
    "p"
   ]
  },
  {
   "cell_type": "code",
   "execution_count": null,
   "metadata": {},
   "outputs": [],
   "source": [
    "# store plot as png file\n",
    "png(file='activity_durations.png', width=600)\n",
    "p\n",
    "dev.off()"
   ]
  }
 ],
 "metadata": {
  "kernelspec": {
   "display_name": "R",
   "language": "R",
   "name": "ir"
  },
  "language_info": {
   "codemirror_mode": "r",
   "file_extension": ".r",
   "mimetype": "text/x-r-source",
   "name": "R",
   "pygments_lexer": "r",
   "version": "3.6.3"
  }
 },
 "nbformat": 4,
 "nbformat_minor": 4
}
